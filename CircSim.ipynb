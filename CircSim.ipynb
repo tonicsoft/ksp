{
 "cells": [
  {
   "cell_type": "code",
   "execution_count": 25,
   "id": "6895f9d6-ee82-4b96-863a-dc96348bcb4b",
   "metadata": {},
   "outputs": [],
   "source": [
    "%run \"lib.py\"\n",
    "%run \"libplot.py\""
   ]
  },
  {
   "cell_type": "markdown",
   "id": "86642017-6282-4362-8c1a-a9db53909037",
   "metadata": {
    "tags": []
   },
   "source": [
    "## Simulate a circular orbit"
   ]
  },
  {
   "cell_type": "code",
   "execution_count": 26,
   "id": "60ea949a-37d3-4d71-b8bd-bd700075ecdd",
   "metadata": {},
   "outputs": [
    {
     "name": "stdout",
     "output_type": "stream",
     "text": [
      "maxR:80000.0\n",
      "minR:79997.69664109554\n"
     ]
    },
    {
     "data": {
      "image/png": "[encoded data removed]",
      "text/plain": [
       "<Figure size 432x288 with 1 Axes>"
      ]
     },
     "metadata": {
      "needs_background": "light"
     },
     "output_type": "display_data"
    }
   ],
   "source": [
    "util = KerbinOrbitalUtilities;\n",
    "\n",
    "radius = 80000;\n",
    "\n",
    "initialPosition = Vector2(0, radius);\n",
    "\n",
    "initialVelocity = Vector2(-util.circularOrbitSpeed(radius), 0);\n",
    "\n",
    "sim = PathToOrbitSimulator(util);\n",
    "\n",
    "result = sim.runSimulation(initialPosition, initialVelocity, lambda p, v : Vector2.ZERO, 1, lambda time, state : time < 3000);\n",
    "\n",
    "maxR = initialPosition.magnitude();\n",
    "minR = initialPosition.magnitude();\n",
    "\n",
    "for state in result:\n",
    "    r = state.position.magnitude();\n",
    "    if r > maxR:\n",
    "        maxR = r;\n",
    "\n",
    "    if r < minR:\n",
    "        minR = r;\n",
    "\n",
    "print(\"maxR:\" + str(maxR))\n",
    "print(\"minR:\" + str(minR))\n",
    "\n",
    "import matplotlib as mpl\n",
    "import matplotlib.pyplot as plt\n",
    "import numpy as np\n",
    "\n",
    "fig = plt.figure()\n",
    "ax = plt.axes()\n",
    "ax.set_aspect('equal')\n",
    "\n",
    "plot_states(ax, result, 'red');\n",
    "\n",
    "ax.axhline(y=0, color='k')\n",
    "ax.axvline(x=0, color='k')\n",
    "\n",
    "plt.xlim([-100000, 100000])\n",
    "plt.ylim([-100000,100000])\n",
    "\n",
    "plt.show()"
   ]
  },
  {
   "cell_type": "markdown",
   "id": "37752d39-d7d1-495c-b8be-7c0a80e1cc46",
   "metadata": {
    "tags": []
   },
   "source": [
    "## Simulate a realistic final ascent by starting from a circular orbit and integrating backwards in time"
   ]
  },
  {
   "cell_type": "code",
   "execution_count": 27,
   "id": "d786e606-4d79-44ac-b607-5f13855e5395",
   "metadata": {},
   "outputs": [
    {
     "data": {
      "image/png": "[encoded data removed]",
      "text/plain": [
       "<Figure size 432x288 with 1 Axes>"
      ]
     },
     "metadata": {
      "needs_background": "light"
     },
     "output_type": "display_data"
    },
    {
     "name": "stdout",
     "output_type": "stream",
     "text": [
      "initialPosition = Vector2(286548.56505299004,402609.10482324107)\n",
      "initialVelocity = Vector2(1749.7803259778643,728.9218759290676)\n"
     ]
    }
   ],
   "source": [
    "targetOrbitalRadius = 750000;\n",
    "\n",
    "util = KerbinOrbitalUtilities;\n",
    "\n",
    "initialEnergy = -5354477;\n",
    "\n",
    "finalPosition = Vector2(targetOrbitalRadius, 0);\n",
    "finalVelocity = Vector2(0, -util.circularOrbitSpeed(targetOrbitalRadius));\n",
    "\n",
    "sim = PathToOrbitSimulator(util);\n",
    "\n",
    "acceleration = 4;\n",
    "\n",
    "result = sim.runSimulation(finalPosition, finalVelocity, lambda p, v: v.unit() * acceleration, -1, lambda t, s: util.specificOrbitalEnergyS(s) > initialEnergy)\n",
    "\n",
    "initialState = result[-1]\n",
    "\n",
    "startingOrbit = sim.runSimulation(initialState.position, initialState.velocity, lambda p, v : Vector2.ZERO, 0.6, lambda t, s : t < 3000)\n",
    "\n",
    "finalOrbit = sim.runSimulation(result[0].position, result[0].velocity, lambda p, v : Vector2.ZERO, 0.6, lambda t, s : t < 3000)\n",
    "\n",
    "import matplotlib as mpl\n",
    "import matplotlib.pyplot as plt\n",
    "import numpy as np\n",
    "\n",
    "fig = plt.figure()\n",
    "ax = plt.axes()\n",
    "ax.set_aspect('equal')\n",
    "\n",
    "plot_states(ax, result, 'red');\n",
    "plot_states(ax, startingOrbit, 'grey');\n",
    "plot_states(ax, finalOrbit, 'blue');\n",
    "\n",
    "ax.axhline(y=0, color='k')\n",
    "ax.axvline(x=0, color='k')\n",
    "\n",
    "plt.xlim([-1000000, 1000000])\n",
    "plt.ylim([-1000000,1000000])\n",
    "\n",
    "plt.show()\n",
    "\n",
    "initialPosition = initialState.position\n",
    "initialVelocity = initialState.velocity\n",
    "\n",
    "print(\"initialPosition = \" + str(initialState.position))\n",
    "print(\"initialVelocity = \" + str(initialState.velocity))"
   ]
  },
  {
   "cell_type": "markdown",
   "id": "262c4077-7e73-4796-a885-17124060825a",
   "metadata": {
    "tags": []
   },
   "source": [
    "## Simulate an ascent"
   ]
  },
  {
   "cell_type": "code",
   "execution_count": 28,
   "id": "b940bb89-2eea-4e40-a77e-122d12fba583",
   "metadata": {},
   "outputs": [],
   "source": [
    "def simulate_ascent(initialPosition, initialVelocity, sim, initialLerp, finalLerp, scale, slope):\n",
    "    startingR = initialPosition.magnitude()\n",
    "    finalR = targetOrbitalRadius\n",
    "\n",
    "    gradientLerp = (initialLerp - finalLerp)/(startingR - finalR)\n",
    "    cLerp = (finalLerp * startingR - initialLerp * finalR) / (startingR - finalR)\n",
    "\n",
    "    def accelerationFunction(R):\n",
    "        candidate = scale * acceleration * ( (slope + gradientLerp) * R + cLerp)\n",
    "        candidate = max(0, candidate)\n",
    "        candidate = min(30, candidate)\n",
    "        return candidate\n",
    "\n",
    "    timestep = 0.3\n",
    "    \n",
    "    def velocityFunction(p, v):\n",
    "        suggestedAcceleration = accelerationFunction(p.magnitude())\n",
    "\n",
    "        return v.unit() * suggestedAcceleration\n",
    "        \n",
    "        \n",
    "    def binarySearchForTargetEnergy(state, thrust):\n",
    "        startOfRange = 0;\n",
    "        endOfRange = timestep;\n",
    "        energyAtStartOfRange = util.specificOrbitalEnergyS(state)\n",
    "        energyAtEndOfRange = util.specificOrbitalEnergyS(sim.simulateTimeStep(state, thrust, timestep))\n",
    "        \n",
    "        minEnergy = util.specificOrbitalEnergyOfCircularOrbit(targetOrbitalRadius - 0.1)\n",
    "        maxEnergy = util.specificOrbitalEnergyOfCircularOrbit(targetOrbitalRadius + 0.1)\n",
    "        \n",
    "        if energyAtStartOfRange > maxEnergy or energyAtEndOfRange < minEnergy:\n",
    "            raise \"error\"\n",
    "        \n",
    "        while True:\n",
    "            midpoint = (endOfRange + startOfRange) / 2\n",
    "            stateAtMidpoint = sim.simulateTimeStep(state, thrust, midpoint)\n",
    "            energyAtMidpoint = util.specificOrbitalEnergyS(stateAtMidpoint)\n",
    "            if energyAtMidpoint < minEnergy:\n",
    "                startOfRange = midpoint\n",
    "            elif energyAtMidpoint > maxEnergy:\n",
    "                endOfRange = midpoint\n",
    "            else:\n",
    "                return stateAtMidpoint\n",
    "\n",
    "    result = sim.runSimulation(initialPosition, initialVelocity, velocityFunction, timestep, lambda t, s: util.specificOrbitalEnergyS(s) < util.specificOrbitalEnergyOfCircularOrbit(targetOrbitalRadius))\n",
    "\n",
    "    result.append(binarySearchForTargetEnergy(result[-1], velocityFunction))\n",
    "    \n",
    "    initialState = result[0]\n",
    "    finalState = result[-1]\n",
    "\n",
    "    startingOrbit = sim.runSimulation(initialState.position, initialState.velocity, lambda p, v : Vector2.ZERO, 1, lambda t, s : t < 2000)\n",
    "\n",
    "    finalOrbit = sim.runSimulation(finalState.position, finalState.velocity, lambda p, v : Vector2.ZERO, 1, lambda t, s : t < 2000)\n",
    "\n",
    "    import matplotlib as mpl\n",
    "    import matplotlib.pyplot as plt\n",
    "    import numpy as np\n",
    "\n",
    "    fig1, axs1 = plt.subplots(1, 4, layout='constrained', figsize=(20, 5))\n",
    "    fig2, axs2 = plt.subplots(1, 4, layout='constrained', figsize=(20, 15))\n",
    "    positionPlot = axs1[0]\n",
    "    acc = axs1[1]\n",
    "    radiusOverTime = axs1[2]\n",
    "    radiusOverTimeZoom = axs1[3]\n",
    "    ellipse = axs2[0]\n",
    "    ellipseZoomed = axs2[1]\n",
    "    ellipseMegaZoom = axs2[2]\n",
    "    emmz = axs2[3]\n",
    "\n",
    "    plot_states(positionPlot, result, 'red');\n",
    "    plot_states(positionPlot, startingOrbit, 'grey');\n",
    "    plot_states(positionPlot, finalOrbit, 'blue');\n",
    "    draw_axes(positionPlot)\n",
    "    positionPlot.set_xlim([-1000000, 1000000])\n",
    "    positionPlot.set_ylim([-1000000,1000000])\n",
    "    plot_radius(radiusOverTime, result, 'red')\n",
    "    radiusOverTime.axhline(y=targetOrbitalRadius, color='k')\n",
    "    plot_radius(radiusOverTimeZoom, result, 'red')\n",
    "    radiusOverTimeZoom.axhline(y=targetOrbitalRadius, color='k')\n",
    "    radiusOverTimeZoom.set_ylim([targetOrbitalRadius - 10000,targetOrbitalRadius + 10000])\n",
    "    \n",
    "\n",
    "\n",
    "    plot_radius_and_e(ellipseZoomed, result, util, 'red')\n",
    "    plot_ellipse_parameters(ellipseZoomed, result, util, 'green', targetOrbitalRadius)\n",
    "    ellipseZoomed.set_xlim([-0.01, 0.09])\n",
    "    ellipseZoomed.set_ylim([targetOrbitalRadius * (1-1/50), targetOrbitalRadius * (1 + 1/50)])\n",
    "    plot_radius_and_e(ellipseMegaZoom, result, util, 'red')\n",
    "    plot_ellipse_parameters(ellipseMegaZoom, result, util, 'green', targetOrbitalRadius)\n",
    "    ellipseMegaZoom.set_xlim([-0.001, 0.009])\n",
    "    ellipseMegaZoom.set_ylim([targetOrbitalRadius * (1-1/10000), targetOrbitalRadius * (1 + 1/10000)])\n",
    "    plot_radius_and_e(emmz, result, util, 'red')\n",
    "    plot_ellipse_parameters(emmz, result, util, 'green', targetOrbitalRadius)\n",
    "    emmz.set_xlim([-0.0001, 0.0009])\n",
    "    emmz.set_ylim([targetOrbitalRadius * (1-1/200000), targetOrbitalRadius * (1 + 1/200000)])\n",
    "    plot_radius_and_e(ellipse, result, util, 'red')\n",
    "    plot_ellipse_parameters(ellipse, result, util, 'green', targetOrbitalRadius)\n",
    "    ellipse.set_xlim([-0.1, 1])\n",
    "    ellipse.set_ylim([0, targetOrbitalRadius * 1.1])\n",
    "\n",
    "    finalE = util.eccentricityS(finalState)\n",
    "    finalA = util.semiMajorAxisS(finalState)\n",
    "    finalAp = (1 + finalE) * finalA\n",
    "    finalPe = (1 - finalE) * finalA\n",
    "    print(\"Ap: \" + str(finalAp))\n",
    "    print(\"Pe: \" + str(finalPe))\n",
    "    \n",
    "    minE = 1\n",
    "    for state in result:\n",
    "        minE = min(minE, util.eccentricityS(state))\n",
    "    \n",
    "    print(\"minE: \" + str(minE))\n",
    "\n",
    "    plot_acceleration_function(acc, startingR, finalR, accelerationFunction, acceleration)\n",
    "    acc.set_ylim([-1, 30])\n"
   ]
  },
  {
   "cell_type": "markdown",
   "id": "c3611b52-df71-4301-9b21-f39082a47d7f",
   "metadata": {},
   "source": [
    "## Interactive Sim"
   ]
  },
  {
   "cell_type": "code",
   "execution_count": 29,
   "id": "53c8d0ee-f8b3-48b0-8c10-59465a615d00",
   "metadata": {},
   "outputs": [
    {
     "data": {
      "application/vnd.jupyter.widget-view+json": {
       "model_id": "9f59b7344e834193930117cee562fd15",
       "version_major": 2,
       "version_minor": 0
      },
      "text/plain": [
       "interactive(children=(IntSlider(value=0, description='px', max=10000, min=-10000), IntSlider(value=0, descript…"
      ]
     },
     "metadata": {},
     "output_type": "display_data"
    },
    {
     "data": {
      "text/plain": [
       "<function __main__.f(px, py, aic, aif, aiff, afc, aff, afff, sc, sf, sff, slc, slf, slff)>"
      ]
     },
     "execution_count": 29,
     "metadata": {},
     "output_type": "execute_result"
    }
   ],
   "source": [
    "from __future__ import print_function\n",
    "from ipywidgets import interact, interactive, fixed, interact_manual, Layout\n",
    "import ipywidgets as widgets\n",
    "\n",
    "def f(px, py, aic, aif, aiff, afc, aff, afff, sc, sf, sff, slc, slf, slff):\n",
    "    positionPerturbation = Vector2(px, py)\n",
    "    initialLerp = aic + aif/5000.0 + aiff/1250000\n",
    "    finalLerp = afc + aff /5000.0 + afff/1250000\n",
    "    \n",
    "    scale = sc + sf/5000.0 + sff/1250000\n",
    "    slope = (slc + slf/5000.0 + slff/1250000)/100000\n",
    "\n",
    "    simulate_ascent(initialPosition + positionPerturbation, initialVelocity, sim, initialLerp, finalLerp, scale, slope)\n",
    "\n",
    "def fineSlider():\n",
    "    return widgets.IntSlider(min=-250, max=250, step=1, value=0, layout=Layout(width='100%'))\n",
    "\n",
    "def superFineSlider():\n",
    "    return widgets.IntSlider(min=-250, max=250, step=1, value=0, layout=Layout(width='100%'))\n",
    "    \n",
    "def coarseSlider():\n",
    "    return widgets.FloatSlider(min=-5, max=5, step=0.05, value=1, layout=Layout(width='100%'))\n",
    "    \n",
    "interact(f, px=widgets.IntSlider(min=-10000, max=10000, step=1, value=0),\n",
    "         py=widgets.IntSlider(min=-10000, max=10000, step=1, value=0),\n",
    "         aic=coarseSlider(), \n",
    "         aif=fineSlider(),\n",
    "         aiff=superFineSlider(),\n",
    "         afc=coarseSlider(),\n",
    "         aff=fineSlider(),\n",
    "         afff=superFineSlider(),\n",
    "         sc=coarseSlider(),\n",
    "         sf=fineSlider(),\n",
    "         sff=superFineSlider(),\n",
    "         slc=coarseSlider(),\n",
    "         slf=fineSlider(),\n",
    "         slff=superFineSlider()\n",
    "        )"
   ]
  }
 ],
 "metadata": {
  "kernelspec": {
   "display_name": "Python 3 (ipykernel)",
   "language": "python",
   "name": "python3"
  },
  "language_info": {
   "codemirror_mode": {
    "name": "ipython",
    "version": 3
   },
   "file_extension": ".py",
   "mimetype": "text/x-python",
   "name": "python",
   "nbconvert_exporter": "python",
   "pygments_lexer": "ipython3",
   "version": "3.7.9"
  }
 },
 "nbformat": 4,
 "nbformat_minor": 5
}
